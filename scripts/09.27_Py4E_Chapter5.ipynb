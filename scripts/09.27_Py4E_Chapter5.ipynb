{
 "cells": [
  {
   "cell_type": "markdown",
   "metadata": {},
   "source": [
    "# Python for Everybody, Chapter 5: Iteration\n",
    "\n",
    "Today, we will learn about the `for` loop, and how iteration can help us do the same calculation over and over, quickly. The `for` loop will come in really handy as we learn abou text analysis in particular.\n",
    "\n",
    "## Learning Goals\n",
    "\n",
    "* Understand iteration in Python, and how the `for` loop works.\n",
    "* Work through exercises to get more comfortable writing `for` loops.\n",
    "* Start to put together logical operations, conditionals, functions, and for loops to write more sophisticated code."
   ]
  },
  {
   "cell_type": "markdown",
   "metadata": {},
   "source": [
    "## For Loops\n",
    "\n",
    "What is a for loop? It is simply a series of instructions, or things to do, that you want to do on multiple elements. It's a way to do the same thing over and over, with different inputs.\n",
    "\n",
    "For example, on Halloween, if you live in a house, you probably have a bowl of candy sitting near your front door. During the evening, for every child that comes to your door you do the following:\n",
    "\n",
    "* Say \"Happy Halloween\"\n",
    "* Ask them what they are dressed as\n",
    "* Give them a piece of candy\n",
    "* Cackle wildly\n",
    "\n",
    "That's a for loop! We use similar sytax in Python. In our example for every child that comes to your door, do the following. In Python, we say for every element in a list, do the following.\n",
    "\n",
    "To write a for loop, we have to assign each element of the list to the same variable name (decided by us), and then we use that variable name in our set of instructions.\n",
    "\n",
    "The form of a for loop is similar to the way we defined a function. We have a line that start with for, followed by a colon, then the next lines within the for loop are indented. When we are done writing the instructions for the for loop, we no longer indent the lines.\n",
    "\n",
    "For example: let's assign a list of strings to the variable `trickotreaters`. We will then carry out our above list of instructions for each child. Note the syntax here."
   ]
  },
  {
   "cell_type": "code",
   "execution_count": null,
   "metadata": {},
   "outputs": [],
   "source": [
    "trickotreaters = ['pumpkin', 'ghost', 'witch', 'wonder woman']\n",
    "\n",
    "for child in trickotreaters:\n",
    "    print(\"Me: Happy Halloween!\")\n",
    "    print(\"Me: What are you dressed as?\")\n",
    "    print(\"Trick o' treater: I am a \"+child+\"!\")\n",
    "    print(\"Me: Here is your piece of candy, small child.\")\n",
    "    print(\"Me: Yuk yuk yuk yuk!\")\n",
    "    print(\"Trick o' treater: Thank you Prof. Nelson!\")\n",
    "    print(\"Me: Next!\\n\\n\")"
   ]
  },
  {
   "cell_type": "markdown",
   "metadata": {},
   "source": [
    "### Exercise 1: Assign the following list of people to a variable: ['Joseph', 'Glenn', 'Sally', 'Martha']. Ask each \"person\" in your list what their name is, and print out their answer."
   ]
  },
  {
   "cell_type": "code",
   "execution_count": null,
   "metadata": {
    "collapsed": true
   },
   "outputs": [],
   "source": [
    "#Exercise 1 code here"
   ]
  },
  {
   "cell_type": "markdown",
   "metadata": {},
   "source": [
    "## Combining loops and conditionals\n",
    "\n",
    "We might also want to do different things to each element in a list depending on the value of that element. We can do so by putting if statements inside our list.\n",
    "\n",
    "For example, we want to print whether each element in our list is a negative number or a positive number. Notice the structure of the following program, and the indentation. Also notice I'm implemnting the `str()` function. Why am I doing that?"
   ]
  },
  {
   "cell_type": "code",
   "execution_count": null,
   "metadata": {},
   "outputs": [],
   "source": [
    "num_list = [9, 500, 20, -10, -.5]\n",
    "for e in num_list:\n",
    "    if e > 0:\n",
    "        print(str(e)+\" is a positive number.\")\n",
    "    else:\n",
    "        print(str(e)+\" is a negative number.\")"
   ]
  },
  {
   "cell_type": "markdown",
   "metadata": {},
   "source": [
    "We can also pass over elements if we wish to ignore them. For example, I'll add a '0' to our num_list, and skip over that number in my for loop."
   ]
  },
  {
   "cell_type": "code",
   "execution_count": null,
   "metadata": {},
   "outputs": [],
   "source": [
    "num_list = [9, 500, 20, 0, -10, -.5]\n",
    "for e in num_list:\n",
    "    if e == 0:\n",
    "        pass\n",
    "    elif e > 0:\n",
    "        print(str(e)+\" is a positive number.\")\n",
    "    else:\n",
    "        print(str(e)+\" is a negative number.\")"
   ]
  },
  {
   "cell_type": "markdown",
   "metadata": {},
   "source": [
    "### Exercise 2: Reassign the list of trick o' treaters above, but add an 'adult' into the list, as such:\n",
    "### trickotreaters = ['pumpkin', 'ghost', 'witch', 'adult', 'wonder woman']\n",
    "### Do the same for each trick o' treater we did above (remember: copy and paste are your friend!), but if the trick o' treater is an adult, pass over them. To do so, simply type the word pass."
   ]
  },
  {
   "cell_type": "code",
   "execution_count": null,
   "metadata": {
    "collapsed": true
   },
   "outputs": [],
   "source": [
    "#Exercise 2 code here"
   ]
  },
  {
   "cell_type": "markdown",
   "metadata": {},
   "source": [
    "## List Comprehension (not in book)\n",
    "\n",
    "We can also loop through lists using list comprehension. List comprehensions are a fairly advanced programming technique that we will spend more time talking about as we move through the course. For now, you can think of them as list filters. Often, we want to loop through a list and only keep those that fulfill certain criteria.\n",
    "\n",
    "We might, for example, only want to keep the positive elements in a list. We can do that by assigning a new variable via loop comprehension. Pay attention to the syntax here."
   ]
  },
  {
   "cell_type": "code",
   "execution_count": null,
   "metadata": {},
   "outputs": [],
   "source": [
    "#original list\n",
    "num_list = [9, 500, 20, -10, -.5]\n",
    "\n",
    "#naming a new variable\n",
    "positive_numbers = [e for e in num_list if e > 0]\n",
    "#print the resulting list\n",
    "\n",
    "positive_numbers"
   ]
  },
  {
   "cell_type": "markdown",
   "metadata": {},
   "source": [
    "### Exercise 3: Assign the following list to a variable:\n",
    "\n",
    "### num_list = [9, 500, .01, \"Sally\", 20.5, 0, \"Martha\", -.5, -50, \"Fred\", 4.5, \"Prof. Nelson\"]\n",
    "\n",
    "### Create a new variable that contains only the elements in that list that are a string."
   ]
  },
  {
   "cell_type": "code",
   "execution_count": null,
   "metadata": {},
   "outputs": [],
   "source": [
    "#Exercise 3 code here:"
   ]
  },
  {
   "cell_type": "markdown",
   "metadata": {},
   "source": [
    "### Sandbox time! \n",
    "\n",
    "Let's practice answering real questions using code. Do this one with a partner.\n",
    "\n",
    "I like playing Scrabble with my mom, but she is an English professor and always beats me. She is particularly good at getting lots of points off of two-letter words. I'm not great at linguistics, but I can code. I want to boost my chances of getting those key two-letter word scores by counting the number of two-letter words in various texts, and printing all of the two-letter words in a way that is easy to read: one word per line.\n",
    "\n",
    "Your task: write a program that will count the number of two-letter words in a text, and then print all of the two-letter words, one on each line.\n",
    "\n",
    "For now, do this on the following list (don't worry about punctuation for now): ['It', 'was', 'the', 'best', 'of', 'times;', 'it', 'was', 'the', 'worst', 'of', 'times.']\n",
    "\n",
    "Use extra print statements so that a reader can easily follow the output from your program, and so that it looks visually pleasing."
   ]
  },
  {
   "cell_type": "code",
   "execution_count": null,
   "metadata": {
    "collapsed": true
   },
   "outputs": [],
   "source": [
    "##Start your code here.\n",
    "text_list = ['It', 'was', 'the', 'best', 'of', 'times;', 'it', 'was', 'the', 'worst', 'of', 'times.']"
   ]
  }
 ],
 "metadata": {
  "kernelspec": {
   "display_name": "Python 3",
   "language": "python",
   "name": "python3"
  },
  "language_info": {
   "codemirror_mode": {
    "name": "ipython",
    "version": 3
   },
   "file_extension": ".py",
   "mimetype": "text/x-python",
   "name": "python",
   "nbconvert_exporter": "python",
   "pygments_lexer": "ipython3",
   "version": "3.5.2"
  }
 },
 "nbformat": 4,
 "nbformat_minor": 2
}
